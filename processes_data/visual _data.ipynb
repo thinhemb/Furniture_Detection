{
 "cells": [
  {
   "cell_type": "code",
   "execution_count": 66,
   "metadata": {},
   "outputs": [
    {
     "name": "stderr",
     "output_type": "stream",
     "text": [
      "No handles with labels found to put in legend.\n"
     ]
    },
    {
     "name": "stdout",
     "output_type": "stream",
     "text": [
      "{'Bed': 1834, 'Table': 2666, 'Couch': 1745}\n"
     ]
    },
    {
     "data": {
      "image/png": "[encoded data removed]",
      "text/plain": [
       "<Figure size 432x288 with 1 Axes>"
      ]
     },
     "metadata": {
      "needs_background": "light"
     },
     "output_type": "display_data"
    }
   ],
   "source": [
    "import matplotlib.pyplot as plt\n",
    "import numpy as np\n",
    "import os\n",
    "import cv2\n",
    "import pandas as pd\n",
    "path_csv = '/home/thinh-do/Workspace/Furniture_Detection/train.csv'\n",
    "df = pd.read_csv(path_csv)\n",
    "count_bed=0\n",
    "count_table=0\n",
    "count_couch=0\n",
    "for idx in range(0,len(df)):\n",
    "    label=df['Label'][idx]\n",
    "    if label == 'Bed':\n",
    "        count_bed+=1\n",
    "        continue\n",
    "    elif label == 'Table':\n",
    "        count_table+=1\n",
    "        continue\n",
    "    elif label == 'Couch':\n",
    "        count_couch+=1\n",
    "        continue\n",
    "\n",
    "label_counts = {'Bed': count_bed , 'Table': count_table, 'Couch': count_couch}\n",
    " \n",
    "print(label_counts)\n",
    "Counts = sorted(label_counts.values(), reverse=True)\n",
    "Foods = sorted(label_counts, key=label_counts.__getitem__, reverse=True)\n",
    " \n",
    "# Chỉ số các món ăn\n",
    "ind_label= range(len(label_counts))\n",
    " \n",
    "# Vẽ biểu đồ cột\n",
    "fig=plt.bar(ind_label, Counts, align='center')\n",
    "plt.xticks(ind_label, Foods)\n",
    " \n",
    "# Label x, y axit\n",
    "plt.xlabel('Label')\n",
    "plt.ylabel('Count ')\n",
    "# Label title of bar char\n",
    "plt.title('Label train')\n",
    " \n",
    "# Thêm các giá trị trên mỗi cột\n",
    "for x, y in zip(ind_label, Counts):\n",
    "    plt.text(x+0.001, y+0.05, '%d' % y, ha='center', va= 'bottom')\n",
    " \n",
    "# Tăng trục y thêm 20 đơn vị\n",
    "plt.ylim(0, Counts[0] + 500)\n",
    "# plt.grid()\n",
    "plt.legend()\n",
    "plt.savefig('label_train.png', dpi=200)\n",
    "# Cuối cùng là show kết quả!!!\n",
    "plt.show()\n",
    "\n"
   ]
  }
 ],
 "metadata": {
  "interpreter": {
   "hash": "f9f85f796d01129d0dd105a088854619f454435301f6ffec2fea96ecbd9be4ac"
  },
  "kernelspec": {
   "display_name": "Python 3.9.5 64-bit",
   "language": "python",
   "name": "python3"
  },
  "language_info": {
   "codemirror_mode": {
    "name": "ipython",
    "version": 3
   },
   "file_extension": ".py",
   "mimetype": "text/x-python",
   "name": "python",
   "nbconvert_exporter": "python",
   "pygments_lexer": "ipython3",
   "version": "3.8.10"
  },
  "orig_nbformat": 4
 },
 "nbformat": 4,
 "nbformat_minor": 2
}
